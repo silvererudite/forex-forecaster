{
  "nbformat": 4,
  "nbformat_minor": 0,
  "metadata": {
    "colab": {
      "provenance": [],
      "authorship_tag": "ABX9TyObZmiuRCk0zo+as5oq5aLT",
      "include_colab_link": true
    },
    "kernelspec": {
      "name": "python3",
      "display_name": "Python 3"
    },
    "language_info": {
      "name": "python"
    }
  },
  "cells": [
    {
      "cell_type": "markdown",
      "metadata": {
        "id": "view-in-github",
        "colab_type": "text"
      },
      "source": [
        "<a href=\"https://colab.research.google.com/github/silvererudite/forex-forecaster/blob/main/data-scripts/get_forex_data.ipynb\" target=\"_parent\"><img src=\"https://colab.research.google.com/assets/colab-badge.svg\" alt=\"Open In Colab\"/></a>"
      ]
    },
    {
      "cell_type": "code",
      "source": [
        "pip install requests_html bs4"
      ],
      "metadata": {
        "id": "2S8nMajb5d1o"
      },
      "execution_count": null,
      "outputs": []
    },
    {
      "cell_type": "code",
      "execution_count": 4,
      "metadata": {
        "id": "_75W-rd95RU6"
      },
      "outputs": [],
      "source": [
        "from bs4 import BeautifulSoup\n",
        "from requests_html import HTMLSession\n",
        "from pprint import pprint"
      ]
    },
    {
      "cell_type": "code",
      "source": [
        "# initialize an HTTP session\n",
        "session = HTMLSession()"
      ],
      "metadata": {
        "id": "gvyzAFDm5Vmn"
      },
      "execution_count": 5,
      "outputs": []
    },
    {
      "cell_type": "code",
      "source": [
        "def get_form(url):\n",
        "    \"\"\"Returns form tag found on a web page's `url` \"\"\"\n",
        "    # GET request\n",
        "    res = session.get(url)\n",
        "    # for javascript driven website\n",
        "    # res.html.render()\n",
        "    soup = BeautifulSoup(res.html.html, \"html.parser\")\n",
        "    return soup.find_all(\"form\")"
      ],
      "metadata": {
        "id": "x8sAdrk_5qvF"
      },
      "execution_count": 15,
      "outputs": []
    },
    {
      "cell_type": "code",
      "source": [
        "def get_form_details(form):\n",
        "    \"\"\"Returns the HTML details of a form,\n",
        "    including action, method and list of form controls (inputs, etc)\"\"\"\n",
        "    details = {}\n",
        "    # get the form action (requested URL)\n",
        "    action = form.attrs.get(\"action\").lower()\n",
        "    # get the form method (POST, GET, DELETE, etc)\n",
        "    # if not specified, GET is the default in HTML\n",
        "    method = form.attrs.get(\"method\", \"get\").lower()\n",
        "    # get all form inputs\n",
        "    inputs = []\n",
        "    for input_tag in form.find_all(\"input\"):\n",
        "        # get type of input form control\n",
        "        input_type = input_tag.attrs.get(\"type\", \"text\")\n",
        "        # get name attribute\n",
        "        input_name = input_tag.attrs.get(\"name\")\n",
        "        # get the default value of that input tag\n",
        "        input_value =input_tag.attrs.get(\"value\", \"\")\n",
        "        # add everything to that list\n",
        "        inputs.append({\"type\": input_type, \"name\": input_name, \"value\": input_value})\n",
        "    for select in form.find_all(\"select\"):\n",
        "        # get the name attribute\n",
        "        select_name = select.attrs.get(\"name\")\n",
        "        # set the type as select\n",
        "        select_type = \"select\"\n",
        "        select_options = []\n",
        "        # the default select value\n",
        "        select_default_value = \"\"\n",
        "        # iterate over options and get the value of each\n",
        "        for select_option in select.find_all(\"option\"):\n",
        "            # get the option value used to submit the form\n",
        "            option_value = select_option.attrs.get(\"value\")\n",
        "            if option_value:\n",
        "                select_options.append(option_value)\n",
        "                if select_option.attrs.get(\"selected\"):\n",
        "                    # if 'selected' attribute is set, set this option as default    \n",
        "                    select_default_value = option_value\n",
        "        if not select_default_value and select_options:\n",
        "            # if the default is not set, and there are options, take the first option as default\n",
        "            select_default_value = select_options[0]\n",
        "        # add the select to the inputs list\n",
        "        inputs.append({\"type\": select_type, \"name\": select_name, \"values\": select_options, \"value\": select_default_value})\n",
        "    for textarea in form.find_all(\"text\"):\n",
        "        # get the name attribute\n",
        "        textarea_name = textarea.attrs.get(\"name\")\n",
        "        # set the type as textarea\n",
        "        textarea_type = \"text\"\n",
        "        # get the textarea value\n",
        "        textarea_value = textarea.attrs.get(\"value\", \"\")\n",
        "        # add the textarea to the inputs list\n",
        "        inputs.append({\"type\": textarea_type, \"name\": textarea_name, \"value\": textarea_value})\n",
        "    details[\"action\"] = action\n",
        "    details[\"method\"] = method\n",
        "    details[\"inputs\"] = inputs\n",
        "    return details"
      ],
      "metadata": {
        "id": "ZJ73CZWA6TJX"
      },
      "execution_count": 19,
      "outputs": []
    },
    {
      "cell_type": "code",
      "source": [
        "url = \"https://www.bb.org.bd/en/index.php/econdata/exchangerate\"\n",
        "form = get_form(url)"
      ],
      "metadata": {
        "id": "wCq3xChi6WrX"
      },
      "execution_count": 20,
      "outputs": []
    },
    {
      "cell_type": "code",
      "source": [
        "form"
      ],
      "metadata": {
        "id": "2UeHTzRv7A3-"
      },
      "execution_count": null,
      "outputs": []
    },
    {
      "cell_type": "code",
      "source": [
        "for i, form in enumerate(form, start=1):\n",
        "  form_details = get_form_details(form)\n",
        "  print(\"=\"*50, f\"form #{i}\", \"=\"*50)\n",
        "  print(form_details)\n",
        "      "
      ],
      "metadata": {
        "colab": {
          "base_uri": "https://localhost:8080/"
        },
        "id": "QT7Z6hhW7DNm",
        "outputId": "fcbe4de5-fcad-4156-f7a2-57171b5fd759"
      },
      "execution_count": 22,
      "outputs": [
        {
          "output_type": "stream",
          "name": "stdout",
          "text": [
            "================================================== form #1 ==================================================\n",
            "{'action': '/en/index.php/home/search', 'method': 'get', 'inputs': [{'type': 'text', 'name': 'search_key', 'value': ''}]}\n",
            "================================================== form #2 ==================================================\n",
            "{'action': '/en/index.php/econdata/exchangerate', 'method': 'post', 'inputs': [{'type': 'text', 'name': 'date_picker', 'value': ''}, {'type': 'select', 'name': 'currencies', 'values': ['all', 'usd', 'others'], 'value': 'all'}]}\n"
          ]
        }
      ]
    },
    {
      "cell_type": "code",
      "source": [],
      "metadata": {
        "id": "unN4n1t8CXKK"
      },
      "execution_count": null,
      "outputs": []
    }
  ]
}